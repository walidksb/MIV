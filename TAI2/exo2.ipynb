{
 "cells": [
  {
   "cell_type": "code",
   "execution_count": 61,
   "metadata": {},
   "outputs": [],
   "source": [
    "import cv2\n",
    "import numpy as np\n",
    "import matplotlib.pyplot as plt"
   ]
  },
  {
   "cell_type": "code",
   "execution_count": 62,
   "metadata": {},
   "outputs": [],
   "source": [
    "image = cv2.imread(\"fig1.png\", cv2.IMREAD_GRAYSCALE)"
   ]
  },
  {
   "cell_type": "code",
   "execution_count": 63,
   "metadata": {},
   "outputs": [],
   "source": [
    "# # Load the grayscale image\n",
    "# image = cv2.imread(\"fig1.png\", cv2.IMREAD_GRAYSCALE)\n",
    "\n",
    "# # Create an empty mask for the segmented region\n",
    "# segmented = np.zeros_like(image, dtype=np.uint8)\n",
    "\n",
    "# # Seed pixel coordinates (you can choose these based on your problem)\n",
    "# seed_x, seed_y = 100, 100\n",
    "\n",
    "# # Définir les seuils de similarité pour la croissance de région\n",
    "# seuil_similarite = 10\n",
    "\n",
    "# # Define the similarity threshold (adjust as needed)\n",
    "# similarity_threshold = 10\n",
    "\n",
    "# # Create a stack for iterative processing\n",
    "# stack = [(seed_x, seed_y)]\n",
    "\n",
    "# # Function for region growing\n",
    "# while stack:\n",
    "#     x, y = stack.pop()\n",
    "\n",
    "#     if x < 0 or y < 0 or x >= image.shape[0] or y >= image.shape[1]:\n",
    "#         continue\n",
    "\n",
    "#     if segmented[x, y] == 0 and abs(int(image[x, y]) - int(image[seed_x, seed_y])) <= similarity_threshold:\n",
    "#         segmented[x, y] = 255  # Set pixel to white (belonging to the region)\n",
    "#         stack.append((x + 1, y))\n",
    "#         stack.append((x - 1, y))\n",
    "#         stack.append((x, y + 1))\n",
    "#         stack.append((x, y - 1))"
   ]
  },
  {
   "cell_type": "code",
   "execution_count": 64,
   "metadata": {},
   "outputs": [],
   "source": [
    "# Create an empty image for the result\n",
    "result = np.zeros((image.shape[0], image.shape[1], 3), dtype=np.uint8)\n",
    "\n",
    "# Seed points and threshold values\n",
    "s1_x, s1_y = 100, 100\n",
    "s2_x, s2_y = 200, 200\n",
    "threshold = 100\n",
    "\n",
    "# Function to perform region growing\n",
    "def region_growing(x, y):\n",
    "    if result[x, y, 0] != 0 or result[x, y, 1] != 0 or result[x, y, 2] != 0:\n",
    "        return\n",
    "\n",
    "    pixel_value = int(image[x, y])\n",
    "\n",
    "    if abs(pixel_value - int(image[s1_x, s1_y])) <= threshold:\n",
    "        result[x, y] = (0, 0, 255)  # Color it with red (BGR format)\n",
    "    elif abs(pixel_value - int(image[s2_x, s2_y])) <= threshold:\n",
    "        result[x, y] = (255, 0, 0)  # Color it with blue (BGR format)\n",
    "    else:\n",
    "        result[x, y] = (0, 0, 0)  # Set it to black\n",
    "\n",
    "# Iterate through the image and perform region growing\n",
    "for x in range(image.shape[0]):\n",
    "    for y in range(image.shape[1]):\n",
    "        region_growing(x, y)"
   ]
  },
  {
   "cell_type": "code",
   "execution_count": 66,
   "metadata": {},
   "outputs": [],
   "source": [
    "# Afficher le résultat\n",
    "cv2.imshow(\"Résultat de la segmentation\", result)\n",
    "cv2.waitKey(0)\n",
    "cv2.destroyAllWindows()"
   ]
  }
 ],
 "metadata": {
  "kernelspec": {
   "display_name": "base",
   "language": "python",
   "name": "python3"
  },
  "language_info": {
   "codemirror_mode": {
    "name": "ipython",
    "version": 3
   },
   "file_extension": ".py",
   "mimetype": "text/x-python",
   "name": "python",
   "nbconvert_exporter": "python",
   "pygments_lexer": "ipython3",
   "version": "3.11.5"
  }
 },
 "nbformat": 4,
 "nbformat_minor": 2
}
