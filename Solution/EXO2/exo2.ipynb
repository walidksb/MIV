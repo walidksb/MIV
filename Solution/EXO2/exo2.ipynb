{
 "cells": [
  {
   "cell_type": "code",
   "execution_count": 1,
   "metadata": {},
   "outputs": [
    {
     "name": "stdout",
     "output_type": "stream",
     "text": [
      "Requirement already satisfied: opencv-python in w:\\programfile\\anaconda3\\lib\\site-packages (4.8.1.78)\n",
      "Requirement already satisfied: numpy>=1.21.2 in w:\\programfile\\anaconda3\\lib\\site-packages (from opencv-python) (1.24.3)\n"
     ]
    }
   ],
   "source": [
    "# !pip install opencv-python"
   ]
  },
  {
   "cell_type": "code",
   "execution_count": null,
   "metadata": {},
   "outputs": [],
   "source": [
    "import cv2\n",
    "import numpy as np\n",
    "import matplotlib.pyplot as plt\n",
    "import os"
   ]
  },
  {
   "cell_type": "code",
   "execution_count": null,
   "metadata": {},
   "outputs": [],
   "source": [
    "folder_path = \"W:/MIV/TAI/MIV/MIV/silhouette45/003\"\n",
    "image_files = os.listdir(folder_path)\n"
   ]
  },
  {
   "cell_type": "code",
   "execution_count": null,
   "metadata": {},
   "outputs": [],
   "source": []
  },
  {
   "cell_type": "code",
   "execution_count": null,
   "metadata": {},
   "outputs": [],
   "source": [
    "def readimage(image):\n",
    "    img = cv2.imread(image)\n",
    "    img = cv2.cvtColor(img, cv2.COLOR_BGR2RGB)\n",
    "    return img"
   ]
  },
  {
   "cell_type": "code",
   "execution_count": null,
   "metadata": {},
   "outputs": [],
   "source": [
    "def find_cordinates(image):\n",
    "    # get image dimensions\n",
    "    h = image.shape[0]\n",
    "    w = image.shape[1]\n",
    "    \n",
    "    y1, x1 = None, None\n",
    "\n",
    "    for y in range(h):\n",
    "        for x in range(w):\n",
    "            if image[y, x] > 0:\n",
    "                y1, x1 = y, x\n",
    "                break\n",
    "        if y1 is not None:\n",
    "            break\n",
    "\n",
    "    # Trouvez les coordonnées du point le plus bas à droite (coin inférieur droit)\n",
    "    y2, x2 = None, None\n",
    "\n",
    "    for y in range(h - 1, -1, -1):\n",
    "        for x in range(w - 1, -1, -1):\n",
    "            if image[y, x] > 0:\n",
    "                y2, x2 = y, x\n",
    "                break\n",
    "        if y2 is not None:\n",
    "            break\n",
    "    \n",
    "    return x1, y1,x2,y2"
   ]
  },
  {
   "cell_type": "code",
   "execution_count": null,
   "metadata": {},
   "outputs": [],
   "source": [
    "for image_file in image_files:\n",
    "        # Construct the full path to the image file\n",
    "        image_path = os.path.join(folder_path, image_file)\n",
    "\n",
    "        # Read the image using OpenCV\n",
    "        colored_image = readimage(image_path)\n",
    "        \n",
    "        [x1, y1,x2,y2] = find_cordinates(colored_image)        \n",
    "        # Process the image as needed\n",
    "        # You can add your image processing code here\n",
    "\n",
    "        # Display or save the processed image (optional)\n",
    "        # cv2.imshow(\"Image\", image)\n",
    "        # cv2.waitKey(0)\n"
   ]
  }
 ],
 "metadata": {
  "kernelspec": {
   "display_name": "base",
   "language": "python",
   "name": "python3"
  },
  "language_info": {
   "codemirror_mode": {
    "name": "ipython",
    "version": 3
   },
   "file_extension": ".py",
   "mimetype": "text/x-python",
   "name": "python",
   "nbconvert_exporter": "python",
   "pygments_lexer": "ipython3",
   "version": "3.11.5"
  }
 },
 "nbformat": 4,
 "nbformat_minor": 2
}
