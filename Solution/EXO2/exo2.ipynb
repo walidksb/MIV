{
 "cells": [
  {
   "cell_type": "code",
   "execution_count": 80,
   "metadata": {},
   "outputs": [],
   "source": [
    "# !pip install opencv-python"
   ]
  },
  {
   "cell_type": "code",
   "execution_count": 81,
   "metadata": {},
   "outputs": [],
   "source": [
    "import cv2\n",
    "import numpy as np\n",
    "import matplotlib.pyplot as plt\n",
    "import os"
   ]
  },
  {
   "cell_type": "code",
   "execution_count": 82,
   "metadata": {},
   "outputs": [
    {
     "name": "stdout",
     "output_type": "stream",
     "text": [
      "['fyc-90_3-001.png', 'fyc-90_3-002.png', 'fyc-90_3-003.png', 'fyc-90_3-004.png', 'fyc-90_3-005.png', 'fyc-90_3-006.png', 'fyc-90_3-007.png', 'fyc-90_3-008.png', 'fyc-90_3-009.png', 'fyc-90_3-010.png', 'fyc-90_3-011.png', 'fyc-90_3-012.png', 'fyc-90_3-013.png', 'fyc-90_3-014.png', 'fyc-90_3-015.png', 'fyc-90_3-016.png', 'fyc-90_3-017.png', 'fyc-90_3-018.png', 'fyc-90_3-019.png', 'fyc-90_3-020.png', 'fyc-90_3-021.png', 'fyc-90_3-022.png', 'fyc-90_3-023.png', 'fyc-90_3-024.png', 'fyc-90_3-025.png', 'fyc-90_3-026.png', 'fyc-90_3-027.png', 'fyc-90_3-028.png', 'fyc-90_3-029.png', 'fyc-90_3-030.png', 'fyc-90_3-031.png', 'fyc-90_3-032.png', 'fyc-90_3-033.png', 'fyc-90_3-034.png', 'fyc-90_3-035.png', 'fyc-90_3-036.png', 'fyc-90_3-037.png', 'fyc-90_3-038.png', 'fyc-90_3-039.png', 'fyc-90_3-040.png', 'fyc-90_3-041.png', 'fyc-90_3-042.png', 'fyc-90_3-043.png', 'fyc-90_3-044.png', 'fyc-90_3-045.png', 'fyc-90_3-046.png', 'fyc-90_3-047.png', 'fyc-90_3-048.png', 'fyc-90_3-049.png', 'fyc-90_3-050.png', 'fyc-90_3-051.png']\n"
     ]
    }
   ],
   "source": [
    "folder_path = \"W:/MIV/TAI/MIV/MIV/silhouette45/003\"\n",
    "image_files = os.listdir(folder_path)\n",
    "image_files = image_files[0:-1]\n",
    "print(image_files)"
   ]
  },
  {
   "cell_type": "code",
   "execution_count": 83,
   "metadata": {},
   "outputs": [],
   "source": [
    "def color_image(image):\n",
    "    img = cv2.cvtColor(img, cv2.COLOR_BGR2RGB)\n",
    "    return img"
   ]
  },
  {
   "cell_type": "code",
   "execution_count": 84,
   "metadata": {},
   "outputs": [],
   "source": [
    "def find_cordinates(image):\n",
    "    # get image dimensions\n",
    "    h = len(image)\n",
    "    w = len(image[0])\n",
    "    # Trouvez les coordonnées du point le plus haut à gauche (coin supérieur gauche)\n",
    "    y1, x1 = None, None\n",
    "\n",
    "    for y in range(h):\n",
    "        for x in range(w):\n",
    "            if image[y, x] > 0:\n",
    "                y1, x1 = y, x\n",
    "                break\n",
    "        if y1 is not None:\n",
    "            break\n",
    "\n",
    "    # Trouvez les coordonnées du point le plus bas à droite (coin inférieur droit)\n",
    "    y2, x2 = None, None\n",
    "\n",
    "    for y in range(h - 1, -1, -1):\n",
    "        for x in range(w - 1, -1, -1):\n",
    "            if image[y, x] > 0:\n",
    "                y2, x2 = y, x\n",
    "                break\n",
    "        if y2 is not None:\n",
    "            break\n",
    "    cord = x1,y1,x2,y2\n",
    "    return cord"
   ]
  },
  {
   "cell_type": "code",
   "execution_count": 85,
   "metadata": {},
   "outputs": [
    {
     "name": "stdout",
     "output_type": "stream",
     "text": [
      "W:/MIV/TAI/MIV/MIV/silhouette45/003/fyc-90_3-001.png\n",
      "W:/MIV/TAI/MIV/MIV/silhouette45/003/fyc-90_3-002.png\n",
      "W:/MIV/TAI/MIV/MIV/silhouette45/003/fyc-90_3-003.png\n",
      "W:/MIV/TAI/MIV/MIV/silhouette45/003/fyc-90_3-004.png\n",
      "W:/MIV/TAI/MIV/MIV/silhouette45/003/fyc-90_3-005.png\n",
      "W:/MIV/TAI/MIV/MIV/silhouette45/003/fyc-90_3-006.png\n",
      "W:/MIV/TAI/MIV/MIV/silhouette45/003/fyc-90_3-007.png\n",
      "W:/MIV/TAI/MIV/MIV/silhouette45/003/fyc-90_3-008.png\n",
      "W:/MIV/TAI/MIV/MIV/silhouette45/003/fyc-90_3-009.png\n",
      "W:/MIV/TAI/MIV/MIV/silhouette45/003/fyc-90_3-010.png\n",
      "W:/MIV/TAI/MIV/MIV/silhouette45/003/fyc-90_3-011.png\n",
      "W:/MIV/TAI/MIV/MIV/silhouette45/003/fyc-90_3-012.png\n",
      "W:/MIV/TAI/MIV/MIV/silhouette45/003/fyc-90_3-013.png\n",
      "W:/MIV/TAI/MIV/MIV/silhouette45/003/fyc-90_3-014.png\n",
      "W:/MIV/TAI/MIV/MIV/silhouette45/003/fyc-90_3-015.png\n",
      "W:/MIV/TAI/MIV/MIV/silhouette45/003/fyc-90_3-016.png\n",
      "W:/MIV/TAI/MIV/MIV/silhouette45/003/fyc-90_3-017.png\n",
      "W:/MIV/TAI/MIV/MIV/silhouette45/003/fyc-90_3-018.png\n",
      "W:/MIV/TAI/MIV/MIV/silhouette45/003/fyc-90_3-019.png\n",
      "W:/MIV/TAI/MIV/MIV/silhouette45/003/fyc-90_3-020.png\n",
      "W:/MIV/TAI/MIV/MIV/silhouette45/003/fyc-90_3-021.png\n",
      "W:/MIV/TAI/MIV/MIV/silhouette45/003/fyc-90_3-022.png\n",
      "W:/MIV/TAI/MIV/MIV/silhouette45/003/fyc-90_3-023.png\n",
      "W:/MIV/TAI/MIV/MIV/silhouette45/003/fyc-90_3-024.png\n",
      "W:/MIV/TAI/MIV/MIV/silhouette45/003/fyc-90_3-025.png\n",
      "W:/MIV/TAI/MIV/MIV/silhouette45/003/fyc-90_3-026.png\n",
      "W:/MIV/TAI/MIV/MIV/silhouette45/003/fyc-90_3-027.png\n",
      "W:/MIV/TAI/MIV/MIV/silhouette45/003/fyc-90_3-028.png\n",
      "W:/MIV/TAI/MIV/MIV/silhouette45/003/fyc-90_3-029.png\n",
      "W:/MIV/TAI/MIV/MIV/silhouette45/003/fyc-90_3-030.png\n",
      "W:/MIV/TAI/MIV/MIV/silhouette45/003/fyc-90_3-031.png\n",
      "W:/MIV/TAI/MIV/MIV/silhouette45/003/fyc-90_3-032.png\n",
      "W:/MIV/TAI/MIV/MIV/silhouette45/003/fyc-90_3-033.png\n",
      "W:/MIV/TAI/MIV/MIV/silhouette45/003/fyc-90_3-034.png\n",
      "W:/MIV/TAI/MIV/MIV/silhouette45/003/fyc-90_3-035.png\n",
      "W:/MIV/TAI/MIV/MIV/silhouette45/003/fyc-90_3-036.png\n",
      "W:/MIV/TAI/MIV/MIV/silhouette45/003/fyc-90_3-037.png\n",
      "W:/MIV/TAI/MIV/MIV/silhouette45/003/fyc-90_3-038.png\n",
      "W:/MIV/TAI/MIV/MIV/silhouette45/003/fyc-90_3-039.png\n",
      "W:/MIV/TAI/MIV/MIV/silhouette45/003/fyc-90_3-040.png\n",
      "W:/MIV/TAI/MIV/MIV/silhouette45/003/fyc-90_3-041.png\n",
      "W:/MIV/TAI/MIV/MIV/silhouette45/003/fyc-90_3-042.png\n",
      "W:/MIV/TAI/MIV/MIV/silhouette45/003/fyc-90_3-043.png\n",
      "W:/MIV/TAI/MIV/MIV/silhouette45/003/fyc-90_3-044.png\n",
      "W:/MIV/TAI/MIV/MIV/silhouette45/003/fyc-90_3-045.png\n",
      "W:/MIV/TAI/MIV/MIV/silhouette45/003/fyc-90_3-046.png\n",
      "W:/MIV/TAI/MIV/MIV/silhouette45/003/fyc-90_3-047.png\n",
      "W:/MIV/TAI/MIV/MIV/silhouette45/003/fyc-90_3-048.png\n",
      "W:/MIV/TAI/MIV/MIV/silhouette45/003/fyc-90_3-049.png\n",
      "W:/MIV/TAI/MIV/MIV/silhouette45/003/fyc-90_3-050.png\n",
      "W:/MIV/TAI/MIV/MIV/silhouette45/003/fyc-90_3-051.png\n"
     ]
    },
    {
     "data": {
      "image/png": "[encoded data removed]",
      "text/plain": [
       "<Figure size 640x480 with 1 Axes>"
      ]
     },
     "metadata": {},
     "output_type": "display_data"
    }
   ],
   "source": [
    "# Create an empty dictionary to store image coordinates\n",
    "image_coordinates = {}\n",
    "counter = 1\n",
    "for image_file in image_files:\n",
    "    # Construct the full path to the image file\n",
    "    image_path = os.path.join(folder_path, image_file)\n",
    "    #make the image_path as string\n",
    "    image_path = image_path.replace(\"\\\\\",\"/\")    \n",
    "    # print(image_path)\n",
    "    #change the anti slach to slash\n",
    "    # Read the image using OpenCV in binary mode\n",
    "    print(image_path)\n",
    "    color = 0\n",
    "    image = cv2.imread(image_path,color)\n",
    "    # plt.imshow(image)\n",
    "    # plt.title('1')\n",
    "    # plt.show()\n",
    "    \n",
    "    #get the image width and height\n",
    "    # h,w = image.shape \n",
    "    \n",
    "    # Find coordinates using your custom find_cordinates function\n",
    "    cordinates = find_cordinates(image)\n",
    "\n",
    "\n",
    "    # Store the coordinates in the dictionary\n",
    "    image_coordinates[counter] = cordinates\n",
    "    counter += 1\n",
    "    # Process the image as needed\n",
    "    # You can add your image processing code here\n",
    "\n",
    "#read the first image so i can draw the circles of all the points from all the images in the same image\n",
    "image = cv2.imread(\"W:/MIV/TAI/MIV/MIV/silhouette45/003/fyc-90_3-001.png\",color)\n",
    "image_colored = cv2.cvtColor(image, cv2.COLOR_GRAY2BGR)\n",
    "\n",
    "#draw the circles of all the points from all the images in the same image so it shows as a line\n",
    "for key,value in image_coordinates.items():\n",
    "    x1,y1,x2,y2 = value\n",
    "    cv2.circle(image_colored, (x1, y1), 1, (255, 0, 0), -1)\n",
    "    cv2.circle(image_colored, (x2, y2), 1, (255, 0, 0), -1)\n",
    "\n",
    "#show the image\n",
    "plt.imshow(image_colored)\n",
    "plt.title('1')\n",
    "plt.show()"
   ]
  }
 ],
 "metadata": {
  "kernelspec": {
   "display_name": "base",
   "language": "python",
   "name": "python3"
  },
  "language_info": {
   "codemirror_mode": {
    "name": "ipython",
    "version": 3
   },
   "file_extension": ".py",
   "mimetype": "text/x-python",
   "name": "python",
   "nbconvert_exporter": "python",
   "pygments_lexer": "ipython3",
   "version": "3.11.5"
  }
 },
 "nbformat": 4,
 "nbformat_minor": 2
}
