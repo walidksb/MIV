{
 "cells": [
  {
   "cell_type": "code",
   "execution_count": 9,
   "metadata": {},
   "outputs": [],
   "source": [
    "# !pip install opencv-python\n",
    "import cv2 \n",
    "import numpy as np\n",
    "import matplotlib.pyplot as plt\n",
    "import os\n",
    "import random"
   ]
  },
  {
   "cell_type": "code",
   "execution_count": 10,
   "metadata": {},
   "outputs": [],
   "source": [
    "#image = cv2.imread(\"C:/Users/dell/Desktop/MIV-Algerie/S1/TAI/TP1/silhouette45/003/fyc-90_3-001.png\", 0)"
   ]
  },
  {
   "cell_type": "code",
   "execution_count": 11,
   "metadata": {},
   "outputs": [],
   "source": [
    "#the function to find extremeties\n",
    "def extremeties(image):\n",
    "    \n",
    "    x1, x2, y1, y2 = None, None, None, None\n",
    "    tol = len(image)\n",
    "    for i in range(tol):\n",
    "        for j in range(len(image[0])):\n",
    "            if image[i, j] > 0 :\n",
    "                x1, y1 = i, j\n",
    "                break\n",
    "        \n",
    "        if  y1 is not None:\n",
    "            break\n",
    " \n",
    "    for row in range(len(image)-1, -1, -1):\n",
    "        for col in range(len(image[0])-1, -1, -1):\n",
    "            \n",
    "            if image[row, col] > 0 : \n",
    "                x2, y2 = row, col\n",
    "                break\n",
    "        \n",
    "        if  y2 is not None:\n",
    "            break\n",
    "\n",
    "    \n",
    "    return (x1, y1),(x2, y2)"
   ]
  },
  {
   "cell_type": "code",
   "execution_count": 12,
   "metadata": {},
   "outputs": [
    {
     "ename": "TypeError",
     "evalue": "object of type 'NoneType' has no len()",
     "output_type": "error",
     "traceback": [
      "\u001b[1;31m---------------------------------------------------------------------------\u001b[0m",
      "\u001b[1;31mTypeError\u001b[0m                                 Traceback (most recent call last)",
      "\u001b[1;32mw:\\MIV\\TAI\\MIV\\MIV\\Solution\\EXO2\\kamiexo2.ipynb Cell 4\u001b[0m line \u001b[0;36m9\n\u001b[0;32m      <a href='vscode-notebook-cell:/w%3A/MIV/TAI/MIV/MIV/Solution/EXO2/kamiexo2.ipynb#W3sZmlsZQ%3D%3D?line=6'>7</a>\u001b[0m \u001b[39mfor\u001b[39;00m filename \u001b[39min\u001b[39;00m os\u001b[39m.\u001b[39mlistdir(path):\n\u001b[0;32m      <a href='vscode-notebook-cell:/w%3A/MIV/TAI/MIV/MIV/Solution/EXO2/kamiexo2.ipynb#W3sZmlsZQ%3D%3D?line=7'>8</a>\u001b[0m     image \u001b[39m=\u001b[39m cv2\u001b[39m.\u001b[39mimread(os\u001b[39m.\u001b[39mpath\u001b[39m.\u001b[39mjoin(path, filename), \u001b[39m0\u001b[39m)  \u001b[39m# load image in grayscale\u001b[39;00m\n\u001b[1;32m----> <a href='vscode-notebook-cell:/w%3A/MIV/TAI/MIV/MIV/Solution/EXO2/kamiexo2.ipynb#W3sZmlsZQ%3D%3D?line=8'>9</a>\u001b[0m     top, bottom \u001b[39m=\u001b[39m extremeties(image)\n\u001b[0;32m     <a href='vscode-notebook-cell:/w%3A/MIV/TAI/MIV/MIV/Solution/EXO2/kamiexo2.ipynb#W3sZmlsZQ%3D%3D?line=9'>10</a>\u001b[0m     topExtr\u001b[39m.\u001b[39mappend(top)\n\u001b[0;32m     <a href='vscode-notebook-cell:/w%3A/MIV/TAI/MIV/MIV/Solution/EXO2/kamiexo2.ipynb#W3sZmlsZQ%3D%3D?line=10'>11</a>\u001b[0m     bottomExtr\u001b[39m.\u001b[39mappend(bottom)\n",
      "\u001b[1;32mw:\\MIV\\TAI\\MIV\\MIV\\Solution\\EXO2\\kamiexo2.ipynb Cell 4\u001b[0m line \u001b[0;36m5\n\u001b[0;32m      <a href='vscode-notebook-cell:/w%3A/MIV/TAI/MIV/MIV/Solution/EXO2/kamiexo2.ipynb#W3sZmlsZQ%3D%3D?line=1'>2</a>\u001b[0m \u001b[39mdef\u001b[39;00m \u001b[39mextremeties\u001b[39m(image):\n\u001b[0;32m      <a href='vscode-notebook-cell:/w%3A/MIV/TAI/MIV/MIV/Solution/EXO2/kamiexo2.ipynb#W3sZmlsZQ%3D%3D?line=3'>4</a>\u001b[0m     x1, x2, y1, y2 \u001b[39m=\u001b[39m \u001b[39mNone\u001b[39;00m, \u001b[39mNone\u001b[39;00m, \u001b[39mNone\u001b[39;00m, \u001b[39mNone\u001b[39;00m\n\u001b[1;32m----> <a href='vscode-notebook-cell:/w%3A/MIV/TAI/MIV/MIV/Solution/EXO2/kamiexo2.ipynb#W3sZmlsZQ%3D%3D?line=4'>5</a>\u001b[0m     tol \u001b[39m=\u001b[39m \u001b[39mlen\u001b[39m(image)\n\u001b[0;32m      <a href='vscode-notebook-cell:/w%3A/MIV/TAI/MIV/MIV/Solution/EXO2/kamiexo2.ipynb#W3sZmlsZQ%3D%3D?line=5'>6</a>\u001b[0m     \u001b[39mfor\u001b[39;00m i \u001b[39min\u001b[39;00m \u001b[39mrange\u001b[39m(tol):\n\u001b[0;32m      <a href='vscode-notebook-cell:/w%3A/MIV/TAI/MIV/MIV/Solution/EXO2/kamiexo2.ipynb#W3sZmlsZQ%3D%3D?line=6'>7</a>\u001b[0m         \u001b[39mfor\u001b[39;00m j \u001b[39min\u001b[39;00m \u001b[39mrange\u001b[39m(\u001b[39mlen\u001b[39m(image[\u001b[39m0\u001b[39m])):\n",
      "\u001b[1;31mTypeError\u001b[0m: object of type 'NoneType' has no len()"
     ]
    }
   ],
   "source": [
    "#finding the extremities of a given set\n",
    "\n",
    "path = \"W:/MIV/TAI/MIV/MIV/silhouette45/003/\"\n",
    "topExtr= []\n",
    "bottomExtr= []\n",
    "\n",
    "for filename in os.listdir(path):\n",
    "    image = cv2.imread(os.path.join(path, filename), 0)  # load image in grayscale\n",
    "    top, bottom = extremeties(image)\n",
    "    topExtr.append(top)\n",
    "    bottomExtr.append(bottom)\n",
    "\n",
    "topExtr = np.array(topExtr)\n",
    "bottomExtr = np.array(bottomExtr)\n",
    "\n",
    "canvas = np.zeros((240,320,3), dtype= np.uint8)\n",
    "\n",
    "#draw the line depuis the array topex and bottomex\n",
    "\n",
    "def dessin(points, color):\n",
    "    for i in range (len(points)-1):\n",
    "        start = (points[i][1], points[i][0])\n",
    "        end = (points[i+1][1], points[i+1][0])\n",
    "        cv2.line(canvas,start,end,color,2)\n",
    "\n",
    "dessin(topExtr, (255,0,0))\n",
    "dessin(bottomExtr, (255,0,0))\n",
    "\n",
    "cv2.imshow('Connected Points', canvas)\n",
    "cv2.waitKey(0)\n",
    "cv2.destroyAllWindows()\n"
   ]
  }
 ],
 "metadata": {
  "kernelspec": {
   "display_name": "base",
   "language": "python",
   "name": "python3"
  },
  "language_info": {
   "codemirror_mode": {
    "name": "ipython",
    "version": 3
   },
   "file_extension": ".py",
   "mimetype": "text/x-python",
   "name": "python",
   "nbconvert_exporter": "python",
   "pygments_lexer": "ipython3",
   "version": "3.11.5"
  }
 },
 "nbformat": 4,
 "nbformat_minor": 2
}
